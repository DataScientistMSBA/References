{
  "nbformat": 4,
  "nbformat_minor": 0,
  "metadata": {
    "colab": {
      "name": "Lookup Stock Ticker",
      "provenance": [],
      "collapsed_sections": [],
      "authorship_tag": "ABX9TyPxb0p1twSwUn7H07RmrAos",
      "include_colab_link": true
    },
    "kernelspec": {
      "name": "python3",
      "display_name": "Python 3"
    },
    "language_info": {
      "name": "python"
    }
  },
  "cells": [
    {
      "cell_type": "markdown",
      "metadata": {
        "id": "view-in-github",
        "colab_type": "text"
      },
      "source": [
        "<a href=\"https://colab.research.google.com/github/DataScientistMSBA/References/blob/main/Lookup_Stock_Ticker.ipynb\" target=\"_parent\"><img src=\"https://colab.research.google.com/assets/colab-badge.svg\" alt=\"Open In Colab\"/></a>"
      ]
    },
    {
      "cell_type": "code",
      "execution_count": 15,
      "metadata": {
        "id": "RXb4SDgAMD-z"
      },
      "outputs": [],
      "source": [
        "import requests\n",
        "\n",
        "def lookup_stock_ticker(company_name):\n",
        "    url = \"https://www.google.com/finance?q=\"\n",
        "    response = requests.get(url + company_name)\n",
        "    return str(response.text).split('href=\"https://www.google.com/finance/quote/')[1].split('\"')[0].split(':')[0]"
      ]
    },
    {
      "cell_type": "code",
      "source": [
        "print(lookup_stock_ticker(\"Google\"))\n",
        "print(lookup_stock_ticker(\"Alphabet\"))\n",
        "print(lookup_stock_ticker(\"Alphabet, Inc\"))\n",
        "print(lookup_stock_ticker(\"Facebook\"))\n",
        "print(lookup_stock_ticker(\"Meta\"))"
      ],
      "metadata": {
        "colab": {
          "base_uri": "https://localhost:8080/"
        },
        "id": "Z_H4NLePMISb",
        "outputId": "5bd6e37a-6f9e-4d89-a3d5-c714aba891ad"
      },
      "execution_count": 19,
      "outputs": [
        {
          "output_type": "stream",
          "name": "stdout",
          "text": [
            "GOOGL\n",
            "GOOGL\n",
            "GOOGL\n",
            "META\n",
            "META\n"
          ]
        }
      ]
    }
  ]
}