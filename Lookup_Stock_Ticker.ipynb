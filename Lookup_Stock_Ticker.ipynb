{
  "nbformat": 4,
  "nbformat_minor": 0,
  "metadata": {
    "colab": {
      "name": "Lookup Stock Ticker",
      "provenance": [],
      "collapsed_sections": [],
      "authorship_tag": "ABX9TyOL/flEynZxWlThIb+B2PAY",
      "include_colab_link": true
    },
    "kernelspec": {
      "name": "python3",
      "display_name": "Python 3"
    },
    "language_info": {
      "name": "python"
    }
  },
  "cells": [
    {
      "cell_type": "markdown",
      "metadata": {
        "id": "view-in-github",
        "colab_type": "text"
      },
      "source": [
        "<a href=\"https://colab.research.google.com/github/DataScientistMSBA/References/blob/main/Lookup_Stock_Ticker.ipynb\" target=\"_parent\"><img src=\"https://colab.research.google.com/assets/colab-badge.svg\" alt=\"Open In Colab\"/></a>"
      ]
    },
    {
      "cell_type": "code",
      "execution_count": 27,
      "metadata": {
        "id": "RXb4SDgAMD-z"
      },
      "outputs": [],
      "source": [
        "import requests\n",
        "\n",
        "def lookup_stock_ticker(company_name):\n",
        "    url = \"https://www.google.com/finance?q=\"\n",
        "    response = requests.get(url + company_name)\n",
        "    try:\n",
        "      ticker = str(response.text).split('href=\"https://www.google.com/finance/quote/')[1].split('\"')[0].split(':')[0]\n",
        "      return ticker\n",
        "    except:\n",
        "      pass\n",
        "      return \"No ticker found\"\n",
        "    "
      ]
    },
    {
      "cell_type": "markdown",
      "source": [
        "Test the versatility of the function"
      ],
      "metadata": {
        "id": "hP9LfRMbOxXE"
      }
    },
    {
      "cell_type": "code",
      "source": [
        "print(lookup_stock_ticker(\"GOOGL\"))\n",
        "print(lookup_stock_ticker(\"Google\"))\n",
        "print(lookup_stock_ticker(\"Alphabet\"))\n",
        "print(lookup_stock_ticker(\"Alphabet Inc\"))\n",
        "print(lookup_stock_ticker(\"Alphabet, Inc\"))\n",
        "print(lookup_stock_ticker(\"AAPL\"))\n",
        "print(lookup_stock_ticker(\"Apple\"))\n",
        "print(lookup_stock_ticker(\"Apple Inc\"))\n",
        "print(lookup_stock_ticker(\"Apple, Inc\"))\n",
        "print(lookup_stock_ticker(\"Facebook\"))\n",
        "print(lookup_stock_ticker(\"Meta\"))\n",
        "print(lookup_stock_ticker(\"NFLX\"))\n",
        "print(lookup_stock_ticker(\"Netflix\"))\n",
        "print(lookup_stock_ticker(\"Netflix, Inc\"))\n",
        "print(lookup_stock_ticker(\"Netflix Inc.\"))\n",
        "print(lookup_stock_ticker(\"Netflix, Inc.\"))\n",
        "print(lookup_stock_ticker(\"HBAN\"))\n",
        "print(lookup_stock_ticker(\"Huntington Bancshares\"))\n",
        "print(lookup_stock_ticker(\"Huntington Bancshares Incorporated\"))\n",
        "print(lookup_stock_ticker(\"Huntington Bank\"))\n",
        "print(lookup_stock_ticker(\"Huntington\"))"
      ],
      "metadata": {
        "colab": {
          "base_uri": "https://localhost:8080/"
        },
        "id": "Z_H4NLePMISb",
        "outputId": "0fd464b8-9d23-42b2-fd99-d647e2988914"
      },
      "execution_count": 28,
      "outputs": [
        {
          "output_type": "stream",
          "name": "stdout",
          "text": [
            "GOOGL\n",
            "GOOGL\n",
            "GOOGL\n",
            "GOOGL\n",
            "GOOGL\n",
            "AAPL\n",
            "AAPL\n",
            "AAPL\n",
            "AAPL\n",
            "META\n",
            "META\n",
            "NFLX\n",
            "NFLX\n",
            "NFLX\n",
            "NFLX\n",
            "NFLX\n",
            "HBAN\n",
            "HBAN\n",
            "HBAN\n",
            "HBAN\n",
            "HBAN\n"
          ]
        }
      ]
    },
    {
      "cell_type": "markdown",
      "source": [
        "Testing failure"
      ],
      "metadata": {
        "id": "YfM0GZ1tPWZd"
      }
    },
    {
      "cell_type": "code",
      "source": [
        "print(lookup_stock_ticker(\"diajd0EFJW8\"))"
      ],
      "metadata": {
        "colab": {
          "base_uri": "https://localhost:8080/"
        },
        "id": "gy5LPwJwPEvd",
        "outputId": "f37ca596-f7e9-497a-ff87-359802de371a"
      },
      "execution_count": 29,
      "outputs": [
        {
          "output_type": "stream",
          "name": "stdout",
          "text": [
            "No ticker found\n"
          ]
        }
      ]
    }
  ]
}